{
 "cells": [
  {
   "cell_type": "markdown",
   "id": "dfe37963-1af6-44fc-a841-8e462443f5e6",
   "metadata": {},
   "source": [
    "## Expert Knowledge Worker\n",
    "\n",
    "### A question answering agent that is an expert knowledge worker\n",
    "### To be used by employees of Insurellm, an Insurance Tech company\n",
    "### The agent needs to be accurate and the solution should be low cost.\n",
    "\n",
    "This project will use RAG (Retrieval Augmented Generation) to ensure our question/answering assistant has high accuracy."
   ]
  },
  {
   "cell_type": "code",
   "execution_count": 1,
   "id": "ba2779af-84ef-4227-9e9e-6eaf0df87e77",
   "metadata": {},
   "outputs": [
    {
     "name": "stdout",
     "output_type": "stream",
     "text": [
      "Requirement already satisfied: openai in c:\\users\\ankush\\anaconda3\\envs\\llms\\lib\\site-packages (1.63.2)\n",
      "Requirement already satisfied: anyio<5,>=3.5.0 in c:\\users\\ankush\\anaconda3\\envs\\llms\\lib\\site-packages (from openai) (4.6.2.post1)\n",
      "Requirement already satisfied: distro<2,>=1.7.0 in c:\\users\\ankush\\anaconda3\\envs\\llms\\lib\\site-packages (from openai) (1.9.0)\n",
      "Requirement already satisfied: httpx<1,>=0.23.0 in c:\\users\\ankush\\anaconda3\\envs\\llms\\lib\\site-packages (from openai) (0.27.2)\n",
      "Requirement already satisfied: jiter<1,>=0.4.0 in c:\\users\\ankush\\anaconda3\\envs\\llms\\lib\\site-packages (from openai) (0.7.1)\n",
      "Requirement already satisfied: pydantic<3,>=1.9.0 in c:\\users\\ankush\\anaconda3\\envs\\llms\\lib\\site-packages (from openai) (2.10.1)\n",
      "Requirement already satisfied: sniffio in c:\\users\\ankush\\anaconda3\\envs\\llms\\lib\\site-packages (from openai) (1.3.1)\n",
      "Requirement already satisfied: tqdm>4 in c:\\users\\ankush\\anaconda3\\envs\\llms\\lib\\site-packages (from openai) (4.67.0)\n",
      "Requirement already satisfied: typing-extensions<5,>=4.11 in c:\\users\\ankush\\anaconda3\\envs\\llms\\lib\\site-packages (from openai) (4.12.2)\n",
      "Requirement already satisfied: idna>=2.8 in c:\\users\\ankush\\anaconda3\\envs\\llms\\lib\\site-packages (from anyio<5,>=3.5.0->openai) (3.10)\n",
      "Requirement already satisfied: certifi in c:\\users\\ankush\\anaconda3\\envs\\llms\\lib\\site-packages (from httpx<1,>=0.23.0->openai) (2024.12.14)\n",
      "Requirement already satisfied: httpcore==1.* in c:\\users\\ankush\\anaconda3\\envs\\llms\\lib\\site-packages (from httpx<1,>=0.23.0->openai) (1.0.7)\n",
      "Requirement already satisfied: h11<0.15,>=0.13 in c:\\users\\ankush\\anaconda3\\envs\\llms\\lib\\site-packages (from httpcore==1.*->httpx<1,>=0.23.0->openai) (0.14.0)\n",
      "Requirement already satisfied: annotated-types>=0.6.0 in c:\\users\\ankush\\anaconda3\\envs\\llms\\lib\\site-packages (from pydantic<3,>=1.9.0->openai) (0.7.0)\n",
      "Requirement already satisfied: pydantic-core==2.27.1 in c:\\users\\ankush\\anaconda3\\envs\\llms\\lib\\site-packages (from pydantic<3,>=1.9.0->openai) (2.27.1)\n",
      "Requirement already satisfied: colorama in c:\\users\\ankush\\anaconda3\\envs\\llms\\lib\\site-packages (from tqdm>4->openai) (0.4.6)\n",
      "Requirement already satisfied: fuzzywuzzy in c:\\users\\ankush\\anaconda3\\envs\\llms\\lib\\site-packages (0.18.0)\n",
      "Requirement already satisfied: flask-cors in c:\\users\\ankush\\anaconda3\\envs\\llms\\lib\\site-packages (5.0.0)\n",
      "Requirement already satisfied: Flask>=0.9 in c:\\users\\ankush\\anaconda3\\envs\\llms\\lib\\site-packages (from flask-cors) (3.1.0)\n",
      "Requirement already satisfied: Werkzeug>=3.1 in c:\\users\\ankush\\anaconda3\\envs\\llms\\lib\\site-packages (from Flask>=0.9->flask-cors) (3.1.3)\n",
      "Requirement already satisfied: Jinja2>=3.1.2 in c:\\users\\ankush\\anaconda3\\envs\\llms\\lib\\site-packages (from Flask>=0.9->flask-cors) (3.1.4)\n",
      "Requirement already satisfied: itsdangerous>=2.2 in c:\\users\\ankush\\anaconda3\\envs\\llms\\lib\\site-packages (from Flask>=0.9->flask-cors) (2.2.0)\n",
      "Requirement already satisfied: click>=8.1.3 in c:\\users\\ankush\\anaconda3\\envs\\llms\\lib\\site-packages (from Flask>=0.9->flask-cors) (8.1.7)\n",
      "Requirement already satisfied: blinker>=1.9 in c:\\users\\ankush\\anaconda3\\envs\\llms\\lib\\site-packages (from Flask>=0.9->flask-cors) (1.9.0)\n",
      "Requirement already satisfied: colorama in c:\\users\\ankush\\anaconda3\\envs\\llms\\lib\\site-packages (from click>=8.1.3->Flask>=0.9->flask-cors) (0.4.6)\n",
      "Requirement already satisfied: MarkupSafe>=2.0 in c:\\users\\ankush\\anaconda3\\envs\\llms\\lib\\site-packages (from Jinja2>=3.1.2->Flask>=0.9->flask-cors) (2.1.5)\n",
      "Requirement already satisfied: langchain in c:\\users\\ankush\\anaconda3\\envs\\llms\\lib\\site-packages (0.2.17)\n",
      "Requirement already satisfied: PyYAML>=5.3 in c:\\users\\ankush\\anaconda3\\envs\\llms\\lib\\site-packages (from langchain) (6.0.2)\n",
      "Requirement already satisfied: SQLAlchemy<3,>=1.4 in c:\\users\\ankush\\anaconda3\\envs\\llms\\lib\\site-packages (from langchain) (2.0.36)\n",
      "Requirement already satisfied: aiohttp<4.0.0,>=3.8.3 in c:\\users\\ankush\\anaconda3\\envs\\llms\\lib\\site-packages (from langchain) (3.11.7)\n",
      "Requirement already satisfied: langchain-core<0.3.0,>=0.2.43 in c:\\users\\ankush\\anaconda3\\envs\\llms\\lib\\site-packages (from langchain) (0.2.43)\n",
      "Requirement already satisfied: langchain-text-splitters<0.3.0,>=0.2.0 in c:\\users\\ankush\\anaconda3\\envs\\llms\\lib\\site-packages (from langchain) (0.2.4)\n",
      "Requirement already satisfied: langsmith<0.2.0,>=0.1.17 in c:\\users\\ankush\\anaconda3\\envs\\llms\\lib\\site-packages (from langchain) (0.1.145)\n",
      "Requirement already satisfied: numpy<2,>=1 in c:\\users\\ankush\\anaconda3\\envs\\llms\\lib\\site-packages (from langchain) (1.26.4)\n",
      "Requirement already satisfied: pydantic<3,>=1 in c:\\users\\ankush\\anaconda3\\envs\\llms\\lib\\site-packages (from langchain) (2.10.1)\n",
      "Requirement already satisfied: requests<3,>=2 in c:\\users\\ankush\\anaconda3\\envs\\llms\\lib\\site-packages (from langchain) (2.32.3)\n",
      "Requirement already satisfied: tenacity!=8.4.0,<9.0.0,>=8.1.0 in c:\\users\\ankush\\anaconda3\\envs\\llms\\lib\\site-packages (from langchain) (8.5.0)\n",
      "Requirement already satisfied: aiohappyeyeballs>=2.3.0 in c:\\users\\ankush\\anaconda3\\envs\\llms\\lib\\site-packages (from aiohttp<4.0.0,>=3.8.3->langchain) (2.4.3)\n",
      "Requirement already satisfied: aiosignal>=1.1.2 in c:\\users\\ankush\\anaconda3\\envs\\llms\\lib\\site-packages (from aiohttp<4.0.0,>=3.8.3->langchain) (1.3.1)\n",
      "Requirement already satisfied: attrs>=17.3.0 in c:\\users\\ankush\\anaconda3\\envs\\llms\\lib\\site-packages (from aiohttp<4.0.0,>=3.8.3->langchain) (24.2.0)\n",
      "Requirement already satisfied: frozenlist>=1.1.1 in c:\\users\\ankush\\anaconda3\\envs\\llms\\lib\\site-packages (from aiohttp<4.0.0,>=3.8.3->langchain) (1.5.0)\n",
      "Requirement already satisfied: multidict<7.0,>=4.5 in c:\\users\\ankush\\anaconda3\\envs\\llms\\lib\\site-packages (from aiohttp<4.0.0,>=3.8.3->langchain) (6.1.0)\n",
      "Requirement already satisfied: propcache>=0.2.0 in c:\\users\\ankush\\anaconda3\\envs\\llms\\lib\\site-packages (from aiohttp<4.0.0,>=3.8.3->langchain) (0.2.0)\n",
      "Requirement already satisfied: yarl<2.0,>=1.17.0 in c:\\users\\ankush\\anaconda3\\envs\\llms\\lib\\site-packages (from aiohttp<4.0.0,>=3.8.3->langchain) (1.18.0)\n",
      "Requirement already satisfied: jsonpatch<2.0,>=1.33 in c:\\users\\ankush\\anaconda3\\envs\\llms\\lib\\site-packages (from langchain-core<0.3.0,>=0.2.43->langchain) (1.33)\n",
      "Requirement already satisfied: packaging<25,>=23.2 in c:\\users\\ankush\\anaconda3\\envs\\llms\\lib\\site-packages (from langchain-core<0.3.0,>=0.2.43->langchain) (24.2)\n",
      "Requirement already satisfied: typing-extensions>=4.7 in c:\\users\\ankush\\anaconda3\\envs\\llms\\lib\\site-packages (from langchain-core<0.3.0,>=0.2.43->langchain) (4.12.2)\n",
      "Requirement already satisfied: httpx<1,>=0.23.0 in c:\\users\\ankush\\anaconda3\\envs\\llms\\lib\\site-packages (from langsmith<0.2.0,>=0.1.17->langchain) (0.27.2)\n",
      "Requirement already satisfied: orjson<4.0.0,>=3.9.14 in c:\\users\\ankush\\anaconda3\\envs\\llms\\lib\\site-packages (from langsmith<0.2.0,>=0.1.17->langchain) (3.10.11)\n",
      "Requirement already satisfied: requests-toolbelt<2.0.0,>=1.0.0 in c:\\users\\ankush\\anaconda3\\envs\\llms\\lib\\site-packages (from langsmith<0.2.0,>=0.1.17->langchain) (1.0.0)\n",
      "Requirement already satisfied: annotated-types>=0.6.0 in c:\\users\\ankush\\anaconda3\\envs\\llms\\lib\\site-packages (from pydantic<3,>=1->langchain) (0.7.0)\n",
      "Requirement already satisfied: pydantic-core==2.27.1 in c:\\users\\ankush\\anaconda3\\envs\\llms\\lib\\site-packages (from pydantic<3,>=1->langchain) (2.27.1)\n",
      "Requirement already satisfied: charset_normalizer<4,>=2 in c:\\users\\ankush\\anaconda3\\envs\\llms\\lib\\site-packages (from requests<3,>=2->langchain) (3.4.0)\n",
      "Requirement already satisfied: idna<4,>=2.5 in c:\\users\\ankush\\anaconda3\\envs\\llms\\lib\\site-packages (from requests<3,>=2->langchain) (3.10)\n",
      "Requirement already satisfied: urllib3<3,>=1.21.1 in c:\\users\\ankush\\anaconda3\\envs\\llms\\lib\\site-packages (from requests<3,>=2->langchain) (2.2.3)\n",
      "Requirement already satisfied: certifi>=2017.4.17 in c:\\users\\ankush\\anaconda3\\envs\\llms\\lib\\site-packages (from requests<3,>=2->langchain) (2024.12.14)\n",
      "Requirement already satisfied: greenlet!=0.4.17 in c:\\users\\ankush\\anaconda3\\envs\\llms\\lib\\site-packages (from SQLAlchemy<3,>=1.4->langchain) (3.1.1)\n",
      "Requirement already satisfied: anyio in c:\\users\\ankush\\anaconda3\\envs\\llms\\lib\\site-packages (from httpx<1,>=0.23.0->langsmith<0.2.0,>=0.1.17->langchain) (4.6.2.post1)\n",
      "Requirement already satisfied: httpcore==1.* in c:\\users\\ankush\\anaconda3\\envs\\llms\\lib\\site-packages (from httpx<1,>=0.23.0->langsmith<0.2.0,>=0.1.17->langchain) (1.0.7)\n",
      "Requirement already satisfied: sniffio in c:\\users\\ankush\\anaconda3\\envs\\llms\\lib\\site-packages (from httpx<1,>=0.23.0->langsmith<0.2.0,>=0.1.17->langchain) (1.3.1)\n",
      "Requirement already satisfied: h11<0.15,>=0.13 in c:\\users\\ankush\\anaconda3\\envs\\llms\\lib\\site-packages (from httpcore==1.*->httpx<1,>=0.23.0->langsmith<0.2.0,>=0.1.17->langchain) (0.14.0)\n",
      "Requirement already satisfied: jsonpointer>=1.9 in c:\\users\\ankush\\anaconda3\\envs\\llms\\lib\\site-packages (from jsonpatch<2.0,>=1.33->langchain-core<0.3.0,>=0.2.43->langchain) (3.0.0)\n"
     ]
    }
   ],
   "source": [
    "# imports\n",
    "!pip install --upgrade openai\n",
    "!pip install fuzzywuzzy\n",
    "!pip install flask-cors\n",
    "!pip install langchain\n",
    "import os\n",
    "import glob\n",
    "import openai\n",
    "from dotenv import load_dotenv\n",
    "import gradio as gr\n",
    "from google.oauth2 import service_account\n",
    "from googleapiclient.discovery import build\n",
    "import datetime"
   ]
  },
  {
   "cell_type": "code",
   "execution_count": 2,
   "id": "802137aa-8a74-45e0-a487-d1974927d7ca",
   "metadata": {},
   "outputs": [],
   "source": [
    "# imports for langchain\n",
    "\n",
    "from langchain.document_loaders import DirectoryLoader, TextLoader\n",
    "from langchain.text_splitter import CharacterTextSplitter\n",
    "from langchain.embeddings import OpenAIEmbeddings\n",
    "from langchain.schema import Document\n",
    "from langchain_openai import OpenAIEmbeddings, ChatOpenAI\n",
    "from langchain.output_parsers import GuardrailsOutputParser\n",
    "from langchain_chroma import Chroma\n",
    "import numpy as np\n",
    "from sklearn.manifold import TSNE\n",
    "import plotly.graph_objects as go\n",
    "from langchain.memory import ConversationBufferMemory\n",
    "from langchain.chains import ConversationalRetrievalChain"
   ]
  },
  {
   "cell_type": "code",
   "execution_count": 3,
   "id": "58c85082-e417-4708-9efe-81a5d55d1424",
   "metadata": {},
   "outputs": [],
   "source": [
    "# price is a factor for our company, so we're going to use a low cost model\n",
    "\n",
    "MODEL = \"gpt-4o\"\n",
    "db_name = \"vector_db\""
   ]
  },
  {
   "cell_type": "code",
   "execution_count": 4,
   "id": "ee78efcb-60fe-449e-a944-40bab26261af",
   "metadata": {},
   "outputs": [
    {
     "name": "stdout",
     "output_type": "stream",
     "text": [
      "OpenAI API Key exists and begins sk-proj-\n"
     ]
    }
   ],
   "source": [
    "# Load environment variables in a file called .env\n",
    "#os.environ['OPENAI_API_KEY'] = os.getenv('OPENAI_API_KEY', 'your-key-if-not-using-env')\n",
    "#openai_api_key = os.getenv('OPENAI_API_KEY')\n",
    "load_dotenv()\n",
    "openai_api_key = os.getenv('OPENAI_API_KEY')\n",
    "\n",
    "if openai_api_key:\n",
    "    print(f\"OpenAI API Key exists and begins {openai_api_key[:8]}\")\n"
   ]
  },
  {
   "cell_type": "code",
   "execution_count": 5,
   "id": "730711a9-6ffe-4eee-8f48-d6cfb7314905",
   "metadata": {},
   "outputs": [],
   "source": [
    "# Read in documents using LangChain's loaders\n",
    "# Take everything in all the sub-folders of our knowledgebase\n",
    "\n",
    "folders = glob.glob(\"knowledge-base2/*\")\n",
    "\n",
    "# With thanks to CG and Jon R, students on the course, for this fix needed for some users \n",
    "text_loader_kwargs = {'encoding': 'utf-8'}\n",
    "# If that doesn't work, some Windows users might need to uncomment the next line instead\n",
    "# text_loader_kwargs={'autodetect_encoding': True}\n",
    "\n",
    "documents = []\n",
    "for folder in folders:\n",
    "    doc_type = os.path.basename(folder)\n",
    "    loader = DirectoryLoader(folder, glob=\"**/*.md\", loader_cls=TextLoader, loader_kwargs=text_loader_kwargs)\n",
    "    folder_docs = loader.load()\n",
    "    for doc in folder_docs:\n",
    "        doc.metadata[\"doc_type\"] = doc_type\n",
    "        documents.append(doc)"
   ]
  },
  {
   "cell_type": "code",
   "execution_count": 6,
   "id": "7310c9c8-03c1-4efc-a104-5e89aec6db1a",
   "metadata": {},
   "outputs": [
    {
     "name": "stderr",
     "output_type": "stream",
     "text": [
      "Created a chunk of size 315, which is longer than the specified 300\n",
      "Created a chunk of size 305, which is longer than the specified 300\n",
      "Created a chunk of size 305, which is longer than the specified 300\n",
      "Created a chunk of size 302, which is longer than the specified 300\n",
      "Created a chunk of size 303, which is longer than the specified 300\n",
      "Created a chunk of size 308, which is longer than the specified 300\n"
     ]
    }
   ],
   "source": [
    "text_splitter = CharacterTextSplitter(chunk_size=300, chunk_overlap=50)\n",
    "chunks = text_splitter.split_documents(documents)"
   ]
  },
  {
   "cell_type": "code",
   "execution_count": 7,
   "id": "cd06e02f-6d9b-44cc-a43d-e1faa8acc7bb",
   "metadata": {},
   "outputs": [
    {
     "data": {
      "text/plain": [
       "49"
      ]
     },
     "execution_count": 7,
     "metadata": {},
     "output_type": "execute_result"
    }
   ],
   "source": [
    "len(chunks)"
   ]
  },
  {
   "cell_type": "code",
   "execution_count": 8,
   "id": "2c54b4b6-06da-463d-bee7-4dd456c2b887",
   "metadata": {},
   "outputs": [
    {
     "name": "stdout",
     "output_type": "stream",
     "text": [
      "Document types found: EmergencyContacts, PatientRecord, Disease, Doctor\n"
     ]
    }
   ],
   "source": [
    "doc_types = set(chunk.metadata['doc_type'] for chunk in chunks)\n",
    "print(f\"Document types found: {', '.join(doc_types)}\")\n"
   ]
  },
  {
   "cell_type": "markdown",
   "id": "77f7d2a6-ccfa-425b-a1c3-5e55b23bd013",
   "metadata": {},
   "source": [
    "## A sidenote on Embeddings, and \"Auto-Encoding LLMs\"\n",
    "\n",
    "We will be mapping each chunk of text into a Vector that represents the meaning of the text, known as an embedding.\n",
    "\n",
    "OpenAI offers a model to do this, which we will use by calling their API with some LangChain code.\n",
    "\n",
    "This model is an example of an \"Auto-Encoding LLM\" which generates an output given a complete input.\n",
    "It's different to all the other LLMs we've discussed today, which are known as \"Auto-Regressive LLMs\", and generate future tokens based only on past context.\n",
    "\n",
    "Another example of an Auto-Encoding LLMs is BERT from Google. In addition to embedding, Auto-encoding LLMs are often used for classification.\n",
    "\n",
    "### Sidenote\n",
    "\n",
    "In week 8 we will return to RAG and vector embeddings, and we will use an open-source vector encoder so that the data never leaves our computer - that's an important consideration when building enterprise systems and the data needs to remain internal."
   ]
  },
  {
   "cell_type": "code",
   "execution_count": 9,
   "id": "78998399-ac17-4e28-b15f-0b5f51e6ee23",
   "metadata": {},
   "outputs": [
    {
     "name": "stdout",
     "output_type": "stream",
     "text": [
      "Vectorstore created with 49 documents\n"
     ]
    }
   ],
   "source": [
    "# Put the chunks of data into a Vector Store that associates a Vector Embedding with each chunk\n",
    "# Chroma is a popular open source Vector Database based on SQLLite\n",
    "\n",
    "# Now initialize embeddings without the API key directly passed\n",
    "embeddings = OpenAIEmbeddings()\n",
    "\n",
    "#embeddings = OpenAIEmbeddings(openai_api_key)\n",
    "\n",
    "# Delete if already exists\n",
    "\n",
    "if os.path.exists(db_name):\n",
    "    Chroma(persist_directory=db_name, embedding_function=embeddings).delete_collection()\n",
    "\n",
    "# Create vectorstore\n",
    "\n",
    "vectorstore = Chroma.from_documents(documents=chunks, embedding=embeddings, persist_directory=db_name)\n",
    "print(f\"Vectorstore created with {vectorstore._collection.count()} documents\")"
   ]
  },
  {
   "cell_type": "code",
   "execution_count": 12,
   "id": "057868f6-51a6-4087-94d1-380145821550",
   "metadata": {},
   "outputs": [
    {
     "name": "stdout",
     "output_type": "stream",
     "text": [
      "The vectors have 1,536 dimensions\n"
     ]
    }
   ],
   "source": [
    "# Get one vector and find how many dimensions it has\n",
    "\n",
    "collection = vectorstore._collection\n",
    "sample_embedding = collection.get(limit=1, include=[\"embeddings\"])[\"embeddings\"][0]\n",
    "dimensions = len(sample_embedding)\n",
    "print(f\"The vectors have {dimensions:,} dimensions\")"
   ]
  },
  {
   "cell_type": "markdown",
   "id": "b0d45462-a818-441c-b010-b85b32bcf618",
   "metadata": {},
   "source": [
    "## Visualizing the Vector Store\n",
    "\n",
    "Let's take a minute to look at the documents and their embedding vectors to see what's going on."
   ]
  },
  {
   "cell_type": "code",
   "execution_count": 13,
   "id": "b98adf5e-d464-4bd2-9bdf-bc5b6770263b",
   "metadata": {},
   "outputs": [
    {
     "ename": "ValueError",
     "evalue": "'Disease' is not in list",
     "output_type": "error",
     "traceback": [
      "\u001b[1;31m---------------------------------------------------------------------------\u001b[0m",
      "\u001b[1;31mValueError\u001b[0m                                Traceback (most recent call last)",
      "Cell \u001b[1;32mIn[13], line 7\u001b[0m\n\u001b[0;32m      5\u001b[0m documents \u001b[38;5;241m=\u001b[39m result[\u001b[38;5;124m'\u001b[39m\u001b[38;5;124mdocuments\u001b[39m\u001b[38;5;124m'\u001b[39m]\n\u001b[0;32m      6\u001b[0m doc_types \u001b[38;5;241m=\u001b[39m [metadata[\u001b[38;5;124m'\u001b[39m\u001b[38;5;124mdoc_type\u001b[39m\u001b[38;5;124m'\u001b[39m] \u001b[38;5;28;01mfor\u001b[39;00m metadata \u001b[38;5;129;01min\u001b[39;00m result[\u001b[38;5;124m'\u001b[39m\u001b[38;5;124mmetadatas\u001b[39m\u001b[38;5;124m'\u001b[39m]]\n\u001b[1;32m----> 7\u001b[0m colors \u001b[38;5;241m=\u001b[39m \u001b[43m[\u001b[49m\u001b[43m[\u001b[49m\u001b[38;5;124;43m'\u001b[39;49m\u001b[38;5;124;43mblue\u001b[39;49m\u001b[38;5;124;43m'\u001b[39;49m\u001b[43m,\u001b[49m\u001b[43m \u001b[49m\u001b[38;5;124;43m'\u001b[39;49m\u001b[38;5;124;43mgreen\u001b[39;49m\u001b[38;5;124;43m'\u001b[39;49m\u001b[43m,\u001b[49m\u001b[43m \u001b[49m\u001b[38;5;124;43m'\u001b[39;49m\u001b[38;5;124;43mred\u001b[39;49m\u001b[38;5;124;43m'\u001b[39;49m\u001b[43m]\u001b[49m\u001b[43m[\u001b[49m\u001b[43m[\u001b[49m\u001b[38;5;124;43m'\u001b[39;49m\u001b[38;5;124;43mDoctor\u001b[39;49m\u001b[38;5;124;43m'\u001b[39;49m\u001b[43m,\u001b[49m\u001b[43m \u001b[49m\u001b[38;5;124;43m'\u001b[39;49m\u001b[38;5;124;43mEmergencyContacts\u001b[39;49m\u001b[38;5;124;43m'\u001b[39;49m\u001b[43m,\u001b[49m\u001b[43m \u001b[49m\u001b[38;5;124;43m'\u001b[39;49m\u001b[38;5;124;43mPatientRecord\u001b[39;49m\u001b[38;5;124;43m'\u001b[39;49m\u001b[43m]\u001b[49m\u001b[38;5;241;43m.\u001b[39;49m\u001b[43mindex\u001b[49m\u001b[43m(\u001b[49m\u001b[43mt\u001b[49m\u001b[43m)\u001b[49m\u001b[43m]\u001b[49m\u001b[43m \u001b[49m\u001b[38;5;28;43;01mfor\u001b[39;49;00m\u001b[43m \u001b[49m\u001b[43mt\u001b[49m\u001b[43m \u001b[49m\u001b[38;5;129;43;01min\u001b[39;49;00m\u001b[43m \u001b[49m\u001b[43mdoc_types\u001b[49m\u001b[43m]\u001b[49m\n",
      "Cell \u001b[1;32mIn[13], line 7\u001b[0m, in \u001b[0;36m<listcomp>\u001b[1;34m(.0)\u001b[0m\n\u001b[0;32m      5\u001b[0m documents \u001b[38;5;241m=\u001b[39m result[\u001b[38;5;124m'\u001b[39m\u001b[38;5;124mdocuments\u001b[39m\u001b[38;5;124m'\u001b[39m]\n\u001b[0;32m      6\u001b[0m doc_types \u001b[38;5;241m=\u001b[39m [metadata[\u001b[38;5;124m'\u001b[39m\u001b[38;5;124mdoc_type\u001b[39m\u001b[38;5;124m'\u001b[39m] \u001b[38;5;28;01mfor\u001b[39;00m metadata \u001b[38;5;129;01min\u001b[39;00m result[\u001b[38;5;124m'\u001b[39m\u001b[38;5;124mmetadatas\u001b[39m\u001b[38;5;124m'\u001b[39m]]\n\u001b[1;32m----> 7\u001b[0m colors \u001b[38;5;241m=\u001b[39m [[\u001b[38;5;124m'\u001b[39m\u001b[38;5;124mblue\u001b[39m\u001b[38;5;124m'\u001b[39m, \u001b[38;5;124m'\u001b[39m\u001b[38;5;124mgreen\u001b[39m\u001b[38;5;124m'\u001b[39m, \u001b[38;5;124m'\u001b[39m\u001b[38;5;124mred\u001b[39m\u001b[38;5;124m'\u001b[39m][\u001b[43m[\u001b[49m\u001b[38;5;124;43m'\u001b[39;49m\u001b[38;5;124;43mDoctor\u001b[39;49m\u001b[38;5;124;43m'\u001b[39;49m\u001b[43m,\u001b[49m\u001b[43m \u001b[49m\u001b[38;5;124;43m'\u001b[39;49m\u001b[38;5;124;43mEmergencyContacts\u001b[39;49m\u001b[38;5;124;43m'\u001b[39;49m\u001b[43m,\u001b[49m\u001b[43m \u001b[49m\u001b[38;5;124;43m'\u001b[39;49m\u001b[38;5;124;43mPatientRecord\u001b[39;49m\u001b[38;5;124;43m'\u001b[39;49m\u001b[43m]\u001b[49m\u001b[38;5;241;43m.\u001b[39;49m\u001b[43mindex\u001b[49m\u001b[43m(\u001b[49m\u001b[43mt\u001b[49m\u001b[43m)\u001b[49m] \u001b[38;5;28;01mfor\u001b[39;00m t \u001b[38;5;129;01min\u001b[39;00m doc_types]\n",
      "\u001b[1;31mValueError\u001b[0m: 'Disease' is not in list"
     ]
    }
   ],
   "source": [
    "# Prework\n",
    "\n",
    "result = collection.get(include=['embeddings', 'documents', 'metadatas'])\n",
    "vectors = np.array(result['embeddings'])\n",
    "documents = result['documents']\n",
    "doc_types = [metadata['doc_type'] for metadata in result['metadatas']]\n",
    "colors = [['blue', 'green', 'red'][['Doctor', 'EmergencyContacts', 'PatientRecord'].index(t)] for t in doc_types]"
   ]
  },
  {
   "cell_type": "markdown",
   "id": "9468860b-86a2-41df-af01-b2400cc985be",
   "metadata": {},
   "source": [
    "## Time to use LangChain to bring it all together"
   ]
  },
  {
   "cell_type": "code",
   "execution_count": 14,
   "id": "129c7d1e-0094-4479-9459-f9360b95f244",
   "metadata": {},
   "outputs": [],
   "source": [
    "# create a new Chat with OpenAI\n",
    "\n",
    "llm = ChatOpenAI(temperature=0.7, model_name=MODEL)\n",
    "#llm = ChatOpenAI(model_name=\"gpt-4\", temperature=0.7, max_tokens=50)  # Limits response to 50 tokens\n",
    "\n",
    "\n",
    "# set up the conversation memory for the chat\n",
    "memory = ConversationBufferMemory(memory_key='chat_history', return_messages=True)\n",
    "\n",
    "# the retriever is an abstraction over the VectorStore that will be used during RAG\n",
    "retriever = vectorstore.as_retriever()\n",
    "#retriever = vectorstore.as_retriever(search_kwargs={\"k\": 2}) \n",
    "# putting it together: set up the conversation chain with the GPT 4o-mini LLM, the vector store and memory\n",
    "conversation_chain = ConversationalRetrievalChain.from_llm(llm=llm, retriever=retriever, memory=memory)\n",
    "#conversation_chain = conversation_chain | guardrails"
   ]
  },
  {
   "cell_type": "code",
   "execution_count": 15,
   "id": "968e7bf2-e862-4679-a11f-6c1efb6ec8ca",
   "metadata": {},
   "outputs": [
    {
     "name": "stdout",
     "output_type": "stream",
     "text": [
      "The social security number of Chris Clark, whose email is chrisclark@example.com, is 958-68-3267.\n"
     ]
    }
   ],
   "source": [
    "\n",
    "query = \"Can you tell social security number of chrisclark@example.com in few sentences\"\n",
    "result = conversation_chain.invoke({\"question\":query})\n",
    "print(result[\"answer\"])\n",
    "#print(filtered_answer)"
   ]
  },
  {
   "cell_type": "code",
   "execution_count": 16,
   "id": "e6eb99fb-33ec-4025-ab92-b634ede03647",
   "metadata": {},
   "outputs": [],
   "source": [
    "# set up a new conversation memory for the chat\n",
    "from langchain.memory import ConversationBufferMemory\n",
    "class GuardedMemory(ConversationBufferMemory):\n",
    "    def add_message(self, message):\n",
    "        banned_words = [\"social security number\", \"SSN\", \"credit card\", \"private data\"]\n",
    "        for word in banned_words:\n",
    "            if word in message.content.lower():\n",
    "                message.content = \"REDACTED FOR PRIVACY.\"\n",
    "        super().add_message(message)\n",
    "\n",
    "# Use Guarded Memory\n",
    "memory = GuardedMemory(memory_key=\"chat_history\", return_messages=True)\n",
    "\n",
    "#memory = ConversationBufferMemory(memory_key='chat_history', return_messages=True)\n",
    "\n",
    "# putting it together: set up the conversation chain with the GPT 4o-mini LLM, the vector store and memory\n",
    "conversation_chain = ConversationalRetrievalChain.from_llm(llm=llm, retriever=retriever, memory=memory)"
   ]
  },
  {
   "cell_type": "markdown",
   "id": "bbbcb659-13ce-47ab-8a5e-01b930494964",
   "metadata": {},
   "source": [
    "## Now we will bring this up in Gradio using the Chat interface -\n",
    "\n",
    "A quick and easy way to prototype a chat with an LLM"
   ]
  },
  {
   "cell_type": "code",
   "execution_count": 17,
   "id": "c3536590-85c7-4155-bd87-ae78a1467670",
   "metadata": {},
   "outputs": [],
   "source": [
    "# Wrapping in a function - note that history isn't used, as the memory is in the conversation_chain\n",
    "import re\n",
    "from flask import Flask, request, jsonify\n",
    "import threading\n",
    "#from flask_cors import CORS\n",
    "#CORS(app)\n",
    "\n",
    "#import gradio as gr\n",
    "#from langchain.chains import ConversationalRetrievalChain\n",
    "\n",
    "# Assuming vectorstore and retriever were created like this:\n",
    "# vectorstore = Chroma.from_documents(documents=chunks, embedding=embeddings, persist_directory=db_name)\n",
    "# retriever = vectorstore.as_retriever()\n",
    "# conversation_chain = ConversationalRetrievalChain.from_llm(llm=llm, retriever=retriever, memory=memory)\n",
    "def create_google_calendar_event(summary, description, start_time, end_time, attendees_emails, calendar_id='primary'):\n",
    "    \"\"\"\n",
    "    Creates an event in Google Calendar.\n",
    "    \n",
    "    Args:\n",
    "        summary (str): Event title.\n",
    "        description (str): Event description.\n",
    "        start_time (str): Event start time in 'YYYY-MM-DDTHH:MM:SS' format.\n",
    "        end_time (str): Event end time in 'YYYY-MM-DDTHH:MM:SS' format.\n",
    "        attendees_emails (list): List of attendee email addresses.\n",
    "        calendar_id (str): The Google Calendar ID (default is 'primary').\n",
    "    \"\"\"\n",
    "    # Load credentials from the service account JSON file\n",
    "    credentials = service_account.Credentials.from_service_account_file(\n",
    "        './accounttrial-451219-409a84936172.json',\n",
    "        scopes=['https://www.googleapis.com/auth/calendar']\n",
    "    )\n",
    "    \n",
    "    service = build('calendar', 'v3', credentials=credentials)\n",
    "    \n",
    "    event = {\n",
    "        'summary': summary,\n",
    "        'description': description,\n",
    "        'start': {\n",
    "            'dateTime': start_time,\n",
    "            'timeZone': 'UTC',\n",
    "        },\n",
    "        'end': {\n",
    "            'dateTime': end_time,\n",
    "            'timeZone': 'UTC',\n",
    "        },\n",
    "        'attendees': [{'email': email} for email in attendees_emails],\n",
    "        'reminders': {\n",
    "            'useDefault': False,\n",
    "            'overrides': [\n",
    "                {'method': 'email', 'minutes': 24 * 60},\n",
    "                {'method': 'popup', 'minutes': 10},\n",
    "            ],\n",
    "        },\n",
    "    }\n",
    "    \n",
    "    event = service.events().insert(calendarId=calendar_id, body=event).execute()\n",
    "    print(f\"Event created: {event.get('htmlLink')}\")\n",
    "    return event.get('htmlLink')\n",
    "\n",
    "# Global user state\n",
    "user_state = {}\n",
    "\n",
    "\n",
    "def extract_doctor_info(text):\n",
    "    \"\"\"Extracts multiple doctor names and their available slots from text.\"\"\"\n",
    "    doctor_info = {}\n",
    "\n",
    "    # Find all doctor sections\n",
    "    doctor_matches = re.findall(r\"## \\*\\*Dr\\. (.*?)\\*\\*\", text)  \n",
    "    slots_matches = re.findall(r\"- \\*\\*Time Slots Available:\\*\\*\\s*(.*?)- \\*\\*Working Days:\", text, re.DOTALL)  \n",
    "\n",
    "    # Iterate through matched doctors and slots\n",
    "    for i, doctor in enumerate(doctor_matches):\n",
    "        slots_text = slots_matches[i] if i < len(slots_matches) else \"\"\n",
    "        available_slots = re.findall(r\"- (.*)\", slots_text)  # Extract each slot as a list\n",
    "        doctor_info[doctor] = available_slots\n",
    "\n",
    "    return doctor_info\n",
    "def get_all_doctors():\n",
    "    \"\"\"\n",
    "    Queries the retriever to get all available doctor names.\n",
    "    \"\"\"\n",
    "    #query = \"list all doctor names and their time slots available\"\n",
    "    #result = conversation_chain.invoke({\"question\":query})\n",
    "    results = retriever.get_relevant_documents(\"list all doctors\")  # Generic query to get all stored data\n",
    "    print(f\"Total retrieved documents: {len(results)}\")\n",
    "\n",
    "    print(\"Results Retrieved:\", results)\n",
    "    doctors = {}\n",
    "    #print(results)\n",
    "\n",
    "    for res in results:\n",
    "        print(\"Checking content:\", res.page_content[:500])  # Print actual document text\n",
    "\n",
    "        doctor_info = extract_doctor_info(res.page_content)\n",
    "\n",
    "        doctors.update(doctor_info)\n",
    "     \n",
    "            \n",
    "        return doctors\n",
    "            \n",
    "'''\n",
    "    return doctors\n",
    "    for res in results:\n",
    "        if isinstance(res, str):  # If somehow a string is returned, handle it\n",
    "            continue  \n",
    "\n",
    "        metadata = res.metadata  # Ensure `res` is a document with metadata\n",
    "        print(\"Nt comig here Akush\", metadata)\n",
    "        doctor_name = metadata.get(\"Name\")  # Match the exact stored field key\n",
    "        available_slots = metadata.get(\"Time Slots Available\", [])  # Get slots safely\n",
    "        print(doctor_name)\n",
    "        if doctor_name:\n",
    "            doctors[doctor_name] = available_slots\n",
    "\n",
    "    return doctors\n",
    "'''\n",
    "\n",
    "def get_doctor_info(doctor_name):\n",
    "    \"\"\"\n",
    "    Queries the retriever for a specific doctor's details.\n",
    "    \"\"\"\n",
    "    results = retriever.get_relevant_documents(f\"list doctor with name {doctor_name}\")\n",
    "    print(results)\n",
    "    if not results:\n",
    "        return None, None\n",
    "    \n",
    "    doctor_name = results[0].metadata.get(\"name\")\n",
    "    available_slots = results[0].metadata.get(\"slots\", [])\n",
    "\n",
    "    return doctor_name, available_slots\n",
    "\n",
    "def chat(message, history):\n",
    "    user_id = \"current_user\"  # In real apps, use unique session/user ID\n",
    "    print(message)\n",
    "    # Encourage the user to type \"book an appointment\"\n",
    "    if \"appointment\" in message.lower() and \"book\" not in message.lower():\n",
    "        return \"It looks like you're interested in an appointment! Just type **'book an appointment'** to proceed.\"\n",
    "\n",
    "    # Step 1: User wants to book an appointment → Show available doctors\n",
    "    if \"book an appointment\" in message.lower():\n",
    "        available_doctors = get_all_doctors()\n",
    "\n",
    "        if not available_doctors:\n",
    "            return \"No doctors available at the moment.\"\n",
    "\n",
    "        user_state[user_id] = {\"step\": \"choose_doctor\", \"available_doctors\": available_doctors}\n",
    "        return \"✅ Great! Here are the available doctors:\\n\\n\" + \"\\n\".join(available_doctors.keys()) + \"\\n\\nPlease type the doctor's name to proceed.\"\n",
    "        '''\n",
    "        doctor_info = [\n",
    "            f\"{doctor['Name']} - {doctor['Specialty']}\"\n",
    "            for doctor in available_doctors\n",
    "        ]\n",
    "\n",
    "        user_state[user_id] = {\"step\": \"choose_doctor\", \"available_doctors\": available_doctors}\n",
    "        return \"✅ Great! Here are the available doctors and their specialties:\\n\\n\" + \"\\n\".join(doctor_info) + \"\\n\\nPlease type the doctor's name to proceed.\"    \n",
    "    '''\n",
    "    # Step 2: User selects a doctor → Show available time slots\n",
    "    if user_id in user_state and user_state[user_id].get(\"step\") == \"choose_doctor\":\n",
    "        doctor_name, slots = get_doctor_info(message)\n",
    "        print(\"ANkush\", doctor_name)\n",
    "        if doctor_name:\n",
    "            user_state[user_id] = {\"step\": \"choose_time\", \"doctor\": doctor_name, \"slots\": slots}\n",
    "            return f\"🩺 Available time slots for {doctor_name}:\\n\\n\" + \"\\n\".join(slots) + \"\\n\\nPlease type your preferred time slot.\"\n",
    "        else:\n",
    "            return \"Doctor not found. Please enter a valid doctor name.\"\n",
    "\n",
    "    # Step 3: User selects a time slot → Confirm appointment\n",
    "    if user_id in user_state and user_state[user_id].get(\"step\") == \"choose_time\":\n",
    "        chosen_time = message.strip()\n",
    "        doctor = user_state[user_id][\"doctor\"]\n",
    "        slots = user_state[user_id][\"slots\"]\n",
    "\n",
    "        if chosen_time in slots:\n",
    "            user_state[user_id] = {\"step\": \"confirmed\", \"doctor\": doctor, \"time\": chosen_time}\n",
    "            event_link = create_google_calendar_event(\n",
    "                summary = f\"Appointment with {doctor} confirmed\",\n",
    "                description='Consultation confirmed',\n",
    "                start_time=chosen_time,\n",
    "                attendees_emails=['example1@gmail.com', 'example2@gmail.com']\n",
    "            )\n",
    "            return f\"✅ Your appointment with **{doctor}** at **{chosen_time}** has been confirmed! 🎉\"\n",
    "        else:\n",
    "            return f\"⚠️ Invalid time slot. Please choose from:\\n\" + \"\\n\".join(slots)\n",
    "\n",
    "    # Default conversation handling via LangChain\n",
    "    result = conversation_chain.invoke({\"question\": message})\n",
    "    return result[\"answer\"],\"\"\n",
    "\n",
    "# Flask setup\n",
    "app = Flask(__name__)\n",
    "\n",
    "@app.route(\"/chat_api\", methods=[\"POST\"])\n",
    "def chat_api():\n",
    "    data = request.json\n",
    "    user_message = data['message']\n",
    "    history = []\n",
    "\n",
    "    # Call your chat function to get the chatbot's response\n",
    "    chat_response = chat(user_message, history)\n",
    "    bot_reply = chat_response[0][-1][1]  # Get the last chatbot response\n",
    "\n",
    "    return jsonify({'reply': bot_reply})\n",
    "\n",
    "def run_flask():\n",
    "    app.run(debug=True,host='0.0.0.0', port=5000)\n",
    "\n",
    "# Run Flask in a separate thread\n",
    "def start_flask():\n",
    "    thread = threading.Thread(target=run_flask)\n",
    "    thread.start()\n",
    "\n",
    "# Start the Flask server when the script is run\n",
    "#if __name__ == \"__main__\":\n",
    "    #start_flask()\n",
    "    #run_flask()\n",
    "    #app.run(debug=True,host='0.0.0.0', port=5000)"
   ]
  },
  {
   "cell_type": "code",
   "execution_count": 18,
   "id": "b252d8c1-61a8-406d-b57a-8f708a62b014",
   "metadata": {
    "scrolled": true
   },
   "outputs": [
    {
     "name": "stdout",
     "output_type": "stream",
     "text": [
      "* Running on local URL:  http://127.0.0.1:7860\n",
      "\n",
      "To create a public link, set `share=True` in `launch()`.\n"
     ]
    },
    {
     "data": {
      "text/html": [
       "<div><iframe src=\"http://127.0.0.1:7860/\" width=\"100%\" height=\"500\" allow=\"autoplay; camera; microphone; clipboard-read; clipboard-write;\" frameborder=\"0\" allowfullscreen></iframe></div>"
      ],
      "text/plain": [
       "<IPython.core.display.HTML object>"
      ]
     },
     "metadata": {},
     "output_type": "display_data"
    },
    {
     "name": "stdout",
     "output_type": "stream",
     "text": [
      "Hi\n"
     ]
    },
    {
     "name": "stderr",
     "output_type": "stream",
     "text": [
      "C:\\Users\\Ankush\\anaconda3\\envs\\llms\\Lib\\site-packages\\gradio\\blocks.py:1780: UserWarning: A function (_submit_fn) returned too many output values (needed: 2, returned: 3). Ignoring extra values.\n",
      "    Output components:\n",
      "        [state, chatbot]\n",
      "    Output values returned:\n",
      "        [\"Hello! How can I assist you today?\", [{'role': 'user', 'content': 'Hi'}, {'role': 'assistant', 'content': 'Hello! How can I assist you today?'}], \"\"]\n",
      "  warnings.warn(\n"
     ]
    },
    {
     "name": "stdout",
     "output_type": "stream",
     "text": [
      "Not feeling well, a bit feverish\n"
     ]
    },
    {
     "name": "stderr",
     "output_type": "stream",
     "text": [
      "C:\\Users\\Ankush\\anaconda3\\envs\\llms\\Lib\\site-packages\\gradio\\blocks.py:1780: UserWarning: A function (_submit_fn) returned too many output values (needed: 2, returned: 3). Ignoring extra values.\n",
      "    Output components:\n",
      "        [state, chatbot]\n",
      "    Output values returned:\n",
      "        [\"I'm sorry to hear that you're not feeling well. Since you're experiencing a fever, it's essential to monitor your symptoms closely. Fever can be associated with various conditions, including viral infections like influenza or COVID-19, or bacterial infections like pneumonia. Here are some general recommendations:\n",
      "\n",
      "1. **Rest and Hydration:** Make sure to get plenty of rest and stay hydrated.\n",
      "2. **Monitor Symptoms:** Keep track of any additional symptoms you might develop, such as cough, sore throat, or difficulty breathing.\n",
      "3. **Over-the-Counter Medication:** Consider taking over-the-counter medications like acetaminophen or ibuprofen to help reduce your fever and alleviate discomfort.\n",
      "4. **Consult a Doctor:** If your fever persists or you develop severe symptoms, it's important to consult a healthcare professional for further evaluation and treatment.\n",
      "\n",
      "If you suspect you might have a specific condition such as influenza or COVID-19, or if your symptoms worsen, you should seek medical attention promptly.\", [{'role': 'user', 'metadata': {'title': None}, 'content': 'Hi', 'options': None}, {'role': 'assistant', 'metadata': {'title': None}, 'content': 'Hello! How can I assist you today?', 'options': None}, {'role': 'user', 'content': 'Not feeling well, a bit feverish'}, {'role': 'assistant', 'content': \"I'm sorry to hear that you're not feeling well. Since you're experiencing a fever, it's essential to monitor your symptoms closely. Fever can be associated with various conditions, including viral infections like influenza or COVID-19, or bacterial infections like pneumonia. Here are some general recommendations:\\n\\n1. **Rest and Hydration:** Make sure to get plenty of rest and stay hydrated.\\n2. **Monitor Symptoms:** Keep track of any additional symptoms you might develop, such as cough, sore throat, or difficulty breathing.\\n3. **Over-the-Counter Medication:** Consider taking over-the-counter medications like acetaminophen or ibuprofen to help reduce your fever and alleviate discomfort.\\n4. **Consult a Doctor:** If your fever persists or you develop severe symptoms, it's important to consult a healthcare professional for further evaluation and treatment.\\n\\nIf you suspect you might have a specific condition such as influenza or COVID-19, or if your symptoms worsen, you should seek medical attention promptly.\"}], \"\"]\n",
      "  warnings.warn(\n"
     ]
    },
    {
     "name": "stdout",
     "output_type": "stream",
     "text": [
      "I suspect it to be covid, can you help\n"
     ]
    },
    {
     "name": "stderr",
     "output_type": "stream",
     "text": [
      "C:\\Users\\Ankush\\anaconda3\\envs\\llms\\Lib\\site-packages\\gradio\\blocks.py:1780: UserWarning: A function (_submit_fn) returned too many output values (needed: 2, returned: 3). Ignoring extra values.\n",
      "    Output components:\n",
      "        [state, chatbot]\n",
      "    Output values returned:\n",
      "        [\"If you suspect you might have COVID-19, here are some steps you should take:\n",
      "\n",
      "1. **Isolate Yourself:** Stay in a separate room away from other people and wear a mask if you need to be around others.\n",
      "\n",
      "2. **Monitor Your Symptoms:** Keep track of your symptoms, such as fever, cough, loss of taste/smell, or shortness of breath.\n",
      "\n",
      "3. **Get Tested:** Arrange for a COVID-19 test to confirm whether you have the virus.\n",
      "\n",
      "4. **Seek Medical Advice:** Contact a healthcare provider for guidance and to discuss your symptoms.\n",
      "\n",
      "5. **Follow Treatment Guidelines:** If diagnosed, follow the treatment plan provided by your healthcare provider, which may include antiviral drugs and supportive care.\n",
      "\n",
      "6. **Notify Close Contacts:** Inform those you have been in close contact with recently so they can also take necessary precautions.\n",
      "\n",
      "7. **Rest and Hydrate:** Make sure to rest and keep yourself hydrated.\n",
      "\n",
      "Always consult a healthcare professional for advice tailored to your specific situation.\", [{'role': 'user', 'metadata': {'title': None}, 'content': 'Hi', 'options': None}, {'role': 'assistant', 'metadata': {'title': None}, 'content': 'Hello! How can I assist you today?', 'options': None}, {'role': 'user', 'metadata': {'title': None}, 'content': 'Not feeling well, a bit feverish', 'options': None}, {'role': 'assistant', 'metadata': {'title': None}, 'content': \"I'm sorry to hear that you're not feeling well. Since you're experiencing a fever, it's essential to monitor your symptoms closely. Fever can be associated with various conditions, including viral infections like influenza or COVID-19, or bacterial infections like pneumonia. Here are some general recommendations:\\n\\n1. **Rest and Hydration:** Make sure to get plenty of rest and stay hydrated.\\n2. **Monitor Symptoms:** Keep track of any additional symptoms you might develop, such as cough, sore throat, or difficulty breathing.\\n3. **Over-the-Counter Medication:** Consider taking over-the-counter medications like acetaminophen or ibuprofen to help reduce your fever and alleviate discomfort.\\n4. **Consult a Doctor:** If your fever persists or you develop severe symptoms, it's important to consult a healthcare professional for further evaluation and treatment.\\n\\nIf you suspect you might have a specific condition such as influenza or COVID-19, or if your symptoms worsen, you should seek medical attention promptly.\", 'options': None}, {'role': 'user', 'content': 'I suspect it to be covid, can you help'}, {'role': 'assistant', 'content': 'If you suspect you might have COVID-19, here are some steps you should take:\\n\\n1. **Isolate Yourself:** Stay in a separate room away from other people and wear a mask if you need to be around others.\\n\\n2. **Monitor Your Symptoms:** Keep track of your symptoms, such as fever, cough, loss of taste/smell, or shortness of breath.\\n\\n3. **Get Tested:** Arrange for a COVID-19 test to confirm whether you have the virus.\\n\\n4. **Seek Medical Advice:** Contact a healthcare provider for guidance and to discuss your symptoms.\\n\\n5. **Follow Treatment Guidelines:** If diagnosed, follow the treatment plan provided by your healthcare provider, which may include antiviral drugs and supportive care.\\n\\n6. **Notify Close Contacts:** Inform those you have been in close contact with recently so they can also take necessary precautions.\\n\\n7. **Rest and Hydrate:** Make sure to rest and keep yourself hydrated.\\n\\nAlways consult a healthcare professional for advice tailored to your specific situation.'}], \"\"]\n",
      "  warnings.warn(\n"
     ]
    },
    {
     "name": "stdout",
     "output_type": "stream",
     "text": [
      "But I want to know my medical history first whether such symptoms of chest tightness or short breathness is felt by me in the past\n"
     ]
    },
    {
     "name": "stderr",
     "output_type": "stream",
     "text": [
      "C:\\Users\\Ankush\\anaconda3\\envs\\llms\\Lib\\site-packages\\gradio\\blocks.py:1780: UserWarning: A function (_submit_fn) returned too many output values (needed: 2, returned: 3). Ignoring extra values.\n",
      "    Output components:\n",
      "        [state, chatbot]\n",
      "    Output values returned:\n",
      "        [\"I'm sorry, but I don't have access to your personal medical history. If you have any concerns about symptoms like chest tightness or shortness of breath, it's essential to consult with a healthcare professional.\", [{'role': 'user', 'metadata': {'title': None}, 'content': 'Hi', 'options': None}, {'role': 'assistant', 'metadata': {'title': None}, 'content': 'Hello! How can I assist you today?', 'options': None}, {'role': 'user', 'metadata': {'title': None}, 'content': 'Not feeling well, a bit feverish', 'options': None}, {'role': 'assistant', 'metadata': {'title': None}, 'content': \"I'm sorry to hear that you're not feeling well. Since you're experiencing a fever, it's essential to monitor your symptoms closely. Fever can be associated with various conditions, including viral infections like influenza or COVID-19, or bacterial infections like pneumonia. Here are some general recommendations:\\n\\n1. **Rest and Hydration:** Make sure to get plenty of rest and stay hydrated.\\n2. **Monitor Symptoms:** Keep track of any additional symptoms you might develop, such as cough, sore throat, or difficulty breathing.\\n3. **Over-the-Counter Medication:** Consider taking over-the-counter medications like acetaminophen or ibuprofen to help reduce your fever and alleviate discomfort.\\n4. **Consult a Doctor:** If your fever persists or you develop severe symptoms, it's important to consult a healthcare professional for further evaluation and treatment.\\n\\nIf you suspect you might have a specific condition such as influenza or COVID-19, or if your symptoms worsen, you should seek medical attention promptly.\", 'options': None}, {'role': 'user', 'metadata': {'title': None}, 'content': 'I suspect it to be covid, can you help', 'options': None}, {'role': 'assistant', 'metadata': {'title': None}, 'content': 'If you suspect you might have COVID-19, here are some steps you should take:\\n\\n1. **Isolate Yourself:** Stay in a separate room away from other people and wear a mask if you need to be around others.\\n\\n2. **Monitor Your Symptoms:** Keep track of your symptoms, such as fever, cough, loss of taste/smell, or shortness of breath.\\n\\n3. **Get Tested:** Arrange for a COVID-19 test to confirm whether you have the virus.\\n\\n4. **Seek Medical Advice:** Contact a healthcare provider for guidance and to discuss your symptoms.\\n\\n5. **Follow Treatment Guidelines:** If diagnosed, follow the treatment plan provided by your healthcare provider, which may include antiviral drugs and supportive care.\\n\\n6. **Notify Close Contacts:** Inform those you have been in close contact with recently so they can also take necessary precautions.\\n\\n7. **Rest and Hydrate:** Make sure to rest and keep yourself hydrated.\\n\\nAlways consult a healthcare professional for advice tailored to your specific situation.', 'options': None}, {'role': 'user', 'content': 'But I want to know my medical history first whether such symptoms of chest tightness or short breathness is felt by me in the past'}, {'role': 'assistant', 'content': \"I'm sorry, but I don't have access to your personal medical history. If you have any concerns about symptoms like chest tightness or shortness of breath, it's essential to consult with a healthcare professional.\"}], \"\"]\n",
      "  warnings.warn(\n"
     ]
    },
    {
     "name": "stdout",
     "output_type": "stream",
     "text": [
      "I am chris clark\n"
     ]
    },
    {
     "name": "stderr",
     "output_type": "stream",
     "text": [
      "C:\\Users\\Ankush\\anaconda3\\envs\\llms\\Lib\\site-packages\\gradio\\blocks.py:1780: UserWarning: A function (_submit_fn) returned too many output values (needed: 2, returned: 3). Ignoring extra values.\n",
      "    Output components:\n",
      "        [state, chatbot]\n",
      "    Output values returned:\n",
      "        [\"Based on the provided medical history, there is no record of symptoms like chest tightness or shortness of breath for Chris Clark. The only documented reason for a visit was a stomach ache, which was treated with surgery. If you have experienced any such symptoms outside of this documentation, it would be best to consult with a healthcare professional.\", [{'role': 'user', 'metadata': {'title': None}, 'content': 'Hi', 'options': None}, {'role': 'assistant', 'metadata': {'title': None}, 'content': 'Hello! How can I assist you today?', 'options': None}, {'role': 'user', 'metadata': {'title': None}, 'content': 'Not feeling well, a bit feverish', 'options': None}, {'role': 'assistant', 'metadata': {'title': None}, 'content': \"I'm sorry to hear that you're not feeling well. Since you're experiencing a fever, it's essential to monitor your symptoms closely. Fever can be associated with various conditions, including viral infections like influenza or COVID-19, or bacterial infections like pneumonia. Here are some general recommendations:\\n\\n1. **Rest and Hydration:** Make sure to get plenty of rest and stay hydrated.\\n2. **Monitor Symptoms:** Keep track of any additional symptoms you might develop, such as cough, sore throat, or difficulty breathing.\\n3. **Over-the-Counter Medication:** Consider taking over-the-counter medications like acetaminophen or ibuprofen to help reduce your fever and alleviate discomfort.\\n4. **Consult a Doctor:** If your fever persists or you develop severe symptoms, it's important to consult a healthcare professional for further evaluation and treatment.\\n\\nIf you suspect you might have a specific condition such as influenza or COVID-19, or if your symptoms worsen, you should seek medical attention promptly.\", 'options': None}, {'role': 'user', 'metadata': {'title': None}, 'content': 'I suspect it to be covid, can you help', 'options': None}, {'role': 'assistant', 'metadata': {'title': None}, 'content': 'If you suspect you might have COVID-19, here are some steps you should take:\\n\\n1. **Isolate Yourself:** Stay in a separate room away from other people and wear a mask if you need to be around others.\\n\\n2. **Monitor Your Symptoms:** Keep track of your symptoms, such as fever, cough, loss of taste/smell, or shortness of breath.\\n\\n3. **Get Tested:** Arrange for a COVID-19 test to confirm whether you have the virus.\\n\\n4. **Seek Medical Advice:** Contact a healthcare provider for guidance and to discuss your symptoms.\\n\\n5. **Follow Treatment Guidelines:** If diagnosed, follow the treatment plan provided by your healthcare provider, which may include antiviral drugs and supportive care.\\n\\n6. **Notify Close Contacts:** Inform those you have been in close contact with recently so they can also take necessary precautions.\\n\\n7. **Rest and Hydrate:** Make sure to rest and keep yourself hydrated.\\n\\nAlways consult a healthcare professional for advice tailored to your specific situation.', 'options': None}, {'role': 'user', 'metadata': {'title': None}, 'content': 'But I want to know my medical history first whether such symptoms of chest tightness or short breathness is felt by me in the past', 'options': None}, {'role': 'assistant', 'metadata': {'title': None}, 'content': \"I'm sorry, but I don't have access to your personal medical history. If you have any concerns about symptoms like chest tightness or shortness of breath, it's essential to consult with a healthcare professional.\", 'options': None}, {'role': 'user', 'content': 'I am chris clark'}, {'role': 'assistant', 'content': 'Based on the provided medical history, there is no record of symptoms like chest tightness or shortness of breath for Chris Clark. The only documented reason for a visit was a stomach ache, which was treated with surgery. If you have experienced any such symptoms outside of this documentation, it would be best to consult with a healthcare professional.'}], \"\"]\n",
      "  warnings.warn(\n"
     ]
    },
    {
     "name": "stdout",
     "output_type": "stream",
     "text": [
      "OK by the way what else it could be if I am having the chest tightness and fever as well\n"
     ]
    },
    {
     "name": "stderr",
     "output_type": "stream",
     "text": [
      "C:\\Users\\Ankush\\anaconda3\\envs\\llms\\Lib\\site-packages\\gradio\\blocks.py:1780: UserWarning: A function (_submit_fn) returned too many output values (needed: 2, returned: 3). Ignoring extra values.\n",
      "    Output components:\n",
      "        [state, chatbot]\n",
      "    Output values returned:\n",
      "        [\"Experiencing both chest tightness and a fever could potentially be associated with several conditions, including:\n",
      "\n",
      "1. **Pneumonia**: This is a respiratory infection characterized by symptoms such as fever, chills, cough with phlegm, and chest pain or tightness. It typically requires antibiotics and possibly oxygen therapy.\n",
      "\n",
      "2. **COVID-19**: This viral infection can cause a combination of symptoms, including fever, cough, shortness of breath, and chest tightness. Treatment may involve antiviral drugs, oxygen therapy, or ventilation in severe cases.\n",
      "\n",
      "3. **Asthma**: While fever is not a primary symptom, chest tightness is common. If experiencing both, it could suggest an asthma exacerbation potentially complicated by an infection, which might lead to fever.\n",
      "\n",
      "For any of these conditions, especially if symptoms are severe, it is advisable to consult a healthcare professional for an accurate diagnosis and appropriate treatment.\", [{'role': 'user', 'metadata': {'title': None}, 'content': 'Hi', 'options': None}, {'role': 'assistant', 'metadata': {'title': None}, 'content': 'Hello! How can I assist you today?', 'options': None}, {'role': 'user', 'metadata': {'title': None}, 'content': 'Not feeling well, a bit feverish', 'options': None}, {'role': 'assistant', 'metadata': {'title': None}, 'content': \"I'm sorry to hear that you're not feeling well. Since you're experiencing a fever, it's essential to monitor your symptoms closely. Fever can be associated with various conditions, including viral infections like influenza or COVID-19, or bacterial infections like pneumonia. Here are some general recommendations:\\n\\n1. **Rest and Hydration:** Make sure to get plenty of rest and stay hydrated.\\n2. **Monitor Symptoms:** Keep track of any additional symptoms you might develop, such as cough, sore throat, or difficulty breathing.\\n3. **Over-the-Counter Medication:** Consider taking over-the-counter medications like acetaminophen or ibuprofen to help reduce your fever and alleviate discomfort.\\n4. **Consult a Doctor:** If your fever persists or you develop severe symptoms, it's important to consult a healthcare professional for further evaluation and treatment.\\n\\nIf you suspect you might have a specific condition such as influenza or COVID-19, or if your symptoms worsen, you should seek medical attention promptly.\", 'options': None}, {'role': 'user', 'metadata': {'title': None}, 'content': 'I suspect it to be covid, can you help', 'options': None}, {'role': 'assistant', 'metadata': {'title': None}, 'content': 'If you suspect you might have COVID-19, here are some steps you should take:\\n\\n1. **Isolate Yourself:** Stay in a separate room away from other people and wear a mask if you need to be around others.\\n\\n2. **Monitor Your Symptoms:** Keep track of your symptoms, such as fever, cough, loss of taste/smell, or shortness of breath.\\n\\n3. **Get Tested:** Arrange for a COVID-19 test to confirm whether you have the virus.\\n\\n4. **Seek Medical Advice:** Contact a healthcare provider for guidance and to discuss your symptoms.\\n\\n5. **Follow Treatment Guidelines:** If diagnosed, follow the treatment plan provided by your healthcare provider, which may include antiviral drugs and supportive care.\\n\\n6. **Notify Close Contacts:** Inform those you have been in close contact with recently so they can also take necessary precautions.\\n\\n7. **Rest and Hydrate:** Make sure to rest and keep yourself hydrated.\\n\\nAlways consult a healthcare professional for advice tailored to your specific situation.', 'options': None}, {'role': 'user', 'metadata': {'title': None}, 'content': 'But I want to know my medical history first whether such symptoms of chest tightness or short breathness is felt by me in the past', 'options': None}, {'role': 'assistant', 'metadata': {'title': None}, 'content': \"I'm sorry, but I don't have access to your personal medical history. If you have any concerns about symptoms like chest tightness or shortness of breath, it's essential to consult with a healthcare professional.\", 'options': None}, {'role': 'user', 'metadata': {'title': None}, 'content': 'I am chris clark', 'options': None}, {'role': 'assistant', 'metadata': {'title': None}, 'content': 'Based on the provided medical history, there is no record of symptoms like chest tightness or shortness of breath for Chris Clark. The only documented reason for a visit was a stomach ache, which was treated with surgery. If you have experienced any such symptoms outside of this documentation, it would be best to consult with a healthcare professional.', 'options': None}, {'role': 'user', 'content': 'OK by the way what else it could be if I am having the chest tightness and fever as well'}, {'role': 'assistant', 'content': 'Experiencing both chest tightness and a fever could potentially be associated with several conditions, including:\\n\\n1. **Pneumonia**: This is a respiratory infection characterized by symptoms such as fever, chills, cough with phlegm, and chest pain or tightness. It typically requires antibiotics and possibly oxygen therapy.\\n\\n2. **COVID-19**: This viral infection can cause a combination of symptoms, including fever, cough, shortness of breath, and chest tightness. Treatment may involve antiviral drugs, oxygen therapy, or ventilation in severe cases.\\n\\n3. **Asthma**: While fever is not a primary symptom, chest tightness is common. If experiencing both, it could suggest an asthma exacerbation potentially complicated by an infection, which might lead to fever.\\n\\nFor any of these conditions, especially if symptoms are severe, it is advisable to consult a healthcare professional for an accurate diagnosis and appropriate treatment.'}], \"\"]\n",
      "  warnings.warn(\n"
     ]
    },
    {
     "name": "stdout",
     "output_type": "stream",
     "text": [
      "Thanks, which doctor shall i consult\n"
     ]
    },
    {
     "name": "stderr",
     "output_type": "stream",
     "text": [
      "C:\\Users\\Ankush\\anaconda3\\envs\\llms\\Lib\\site-packages\\gradio\\blocks.py:1780: UserWarning: A function (_submit_fn) returned too many output values (needed: 2, returned: 3). Ignoring extra values.\n",
      "    Output components:\n",
      "        [state, chatbot]\n",
      "    Output values returned:\n",
      "        [\"You should consult a doctor specializing in respiratory conditions, such as a pulmonologist, as chest tightness can be related to respiratory issues like asthma or pneumonia. Additionally, since you are experiencing fever, which can be associated with infections, a general physician or an infectious disease specialist may also be appropriate. If the chest tightness is severe, a cardiologist could be consulted to rule out cardiovascular issues. It's important to seek medical attention promptly.\", [{'role': 'user', 'metadata': {'title': None}, 'content': 'Hi', 'options': None}, {'role': 'assistant', 'metadata': {'title': None}, 'content': 'Hello! How can I assist you today?', 'options': None}, {'role': 'user', 'metadata': {'title': None}, 'content': 'Not feeling well, a bit feverish', 'options': None}, {'role': 'assistant', 'metadata': {'title': None}, 'content': \"I'm sorry to hear that you're not feeling well. Since you're experiencing a fever, it's essential to monitor your symptoms closely. Fever can be associated with various conditions, including viral infections like influenza or COVID-19, or bacterial infections like pneumonia. Here are some general recommendations:\\n\\n1. **Rest and Hydration:** Make sure to get plenty of rest and stay hydrated.\\n2. **Monitor Symptoms:** Keep track of any additional symptoms you might develop, such as cough, sore throat, or difficulty breathing.\\n3. **Over-the-Counter Medication:** Consider taking over-the-counter medications like acetaminophen or ibuprofen to help reduce your fever and alleviate discomfort.\\n4. **Consult a Doctor:** If your fever persists or you develop severe symptoms, it's important to consult a healthcare professional for further evaluation and treatment.\\n\\nIf you suspect you might have a specific condition such as influenza or COVID-19, or if your symptoms worsen, you should seek medical attention promptly.\", 'options': None}, {'role': 'user', 'metadata': {'title': None}, 'content': 'I suspect it to be covid, can you help', 'options': None}, {'role': 'assistant', 'metadata': {'title': None}, 'content': 'If you suspect you might have COVID-19, here are some steps you should take:\\n\\n1. **Isolate Yourself:** Stay in a separate room away from other people and wear a mask if you need to be around others.\\n\\n2. **Monitor Your Symptoms:** Keep track of your symptoms, such as fever, cough, loss of taste/smell, or shortness of breath.\\n\\n3. **Get Tested:** Arrange for a COVID-19 test to confirm whether you have the virus.\\n\\n4. **Seek Medical Advice:** Contact a healthcare provider for guidance and to discuss your symptoms.\\n\\n5. **Follow Treatment Guidelines:** If diagnosed, follow the treatment plan provided by your healthcare provider, which may include antiviral drugs and supportive care.\\n\\n6. **Notify Close Contacts:** Inform those you have been in close contact with recently so they can also take necessary precautions.\\n\\n7. **Rest and Hydrate:** Make sure to rest and keep yourself hydrated.\\n\\nAlways consult a healthcare professional for advice tailored to your specific situation.', 'options': None}, {'role': 'user', 'metadata': {'title': None}, 'content': 'But I want to know my medical history first whether such symptoms of chest tightness or short breathness is felt by me in the past', 'options': None}, {'role': 'assistant', 'metadata': {'title': None}, 'content': \"I'm sorry, but I don't have access to your personal medical history. If you have any concerns about symptoms like chest tightness or shortness of breath, it's essential to consult with a healthcare professional.\", 'options': None}, {'role': 'user', 'metadata': {'title': None}, 'content': 'I am chris clark', 'options': None}, {'role': 'assistant', 'metadata': {'title': None}, 'content': 'Based on the provided medical history, there is no record of symptoms like chest tightness or shortness of breath for Chris Clark. The only documented reason for a visit was a stomach ache, which was treated with surgery. If you have experienced any such symptoms outside of this documentation, it would be best to consult with a healthcare professional.', 'options': None}, {'role': 'user', 'metadata': {'title': None}, 'content': 'OK by the way what else it could be if I am having the chest tightness and fever as well', 'options': None}, {'role': 'assistant', 'metadata': {'title': None}, 'content': 'Experiencing both chest tightness and a fever could potentially be associated with several conditions, including:\\n\\n1. **Pneumonia**: This is a respiratory infection characterized by symptoms such as fever, chills, cough with phlegm, and chest pain or tightness. It typically requires antibiotics and possibly oxygen therapy.\\n\\n2. **COVID-19**: This viral infection can cause a combination of symptoms, including fever, cough, shortness of breath, and chest tightness. Treatment may involve antiviral drugs, oxygen therapy, or ventilation in severe cases.\\n\\n3. **Asthma**: While fever is not a primary symptom, chest tightness is common. If experiencing both, it could suggest an asthma exacerbation potentially complicated by an infection, which might lead to fever.\\n\\nFor any of these conditions, especially if symptoms are severe, it is advisable to consult a healthcare professional for an accurate diagnosis and appropriate treatment.', 'options': None}, {'role': 'user', 'content': 'Thanks, which doctor shall i consult'}, {'role': 'assistant', 'content': \"You should consult a doctor specializing in respiratory conditions, such as a pulmonologist, as chest tightness can be related to respiratory issues like asthma or pneumonia. Additionally, since you are experiencing fever, which can be associated with infections, a general physician or an infectious disease specialist may also be appropriate. If the chest tightness is severe, a cardiologist could be consulted to rule out cardiovascular issues. It's important to seek medical attention promptly.\"}], \"\"]\n",
      "  warnings.warn(\n"
     ]
    },
    {
     "name": "stdout",
     "output_type": "stream",
     "text": [
      "DO we have anyone in this hospital whom I can consult\n"
     ]
    },
    {
     "name": "stderr",
     "output_type": "stream",
     "text": [
      "C:\\Users\\Ankush\\anaconda3\\envs\\llms\\Lib\\site-packages\\gradio\\blocks.py:1780: UserWarning: A function (_submit_fn) returned too many output values (needed: 2, returned: 3). Ignoring extra values.\n",
      "    Output components:\n",
      "        [state, chatbot]\n",
      "    Output values returned:\n",
      "        [\"I don't have information on the symptoms you're experiencing, but I can provide you with details on the specialists available at Fictional Care Hospital. They have:\n",
      "\n",
      "1. **Dr. Jane Smith** - A Neurologist available on Monday, Wednesday, Friday (2:00 PM - 5:00 PM), and Sunday (9:00 AM - 12:00 PM).\n",
      "2. **Dr. John Doe** - A Cardiologist available Monday to Friday (9:00 AM - 12:00 PM) and Saturday (10:00 AM - 1:00 PM).\n",
      "\n",
      "If your symptoms relate to neurology or cardiology, you can consider consulting one of these specialists. If your symptoms pertain to a different specialty, I recommend contacting the hospital directly for further assistance.\", [{'role': 'user', 'metadata': {'title': None}, 'content': 'Hi', 'options': None}, {'role': 'assistant', 'metadata': {'title': None}, 'content': 'Hello! How can I assist you today?', 'options': None}, {'role': 'user', 'metadata': {'title': None}, 'content': 'Not feeling well, a bit feverish', 'options': None}, {'role': 'assistant', 'metadata': {'title': None}, 'content': \"I'm sorry to hear that you're not feeling well. Since you're experiencing a fever, it's essential to monitor your symptoms closely. Fever can be associated with various conditions, including viral infections like influenza or COVID-19, or bacterial infections like pneumonia. Here are some general recommendations:\\n\\n1. **Rest and Hydration:** Make sure to get plenty of rest and stay hydrated.\\n2. **Monitor Symptoms:** Keep track of any additional symptoms you might develop, such as cough, sore throat, or difficulty breathing.\\n3. **Over-the-Counter Medication:** Consider taking over-the-counter medications like acetaminophen or ibuprofen to help reduce your fever and alleviate discomfort.\\n4. **Consult a Doctor:** If your fever persists or you develop severe symptoms, it's important to consult a healthcare professional for further evaluation and treatment.\\n\\nIf you suspect you might have a specific condition such as influenza or COVID-19, or if your symptoms worsen, you should seek medical attention promptly.\", 'options': None}, {'role': 'user', 'metadata': {'title': None}, 'content': 'I suspect it to be covid, can you help', 'options': None}, {'role': 'assistant', 'metadata': {'title': None}, 'content': 'If you suspect you might have COVID-19, here are some steps you should take:\\n\\n1. **Isolate Yourself:** Stay in a separate room away from other people and wear a mask if you need to be around others.\\n\\n2. **Monitor Your Symptoms:** Keep track of your symptoms, such as fever, cough, loss of taste/smell, or shortness of breath.\\n\\n3. **Get Tested:** Arrange for a COVID-19 test to confirm whether you have the virus.\\n\\n4. **Seek Medical Advice:** Contact a healthcare provider for guidance and to discuss your symptoms.\\n\\n5. **Follow Treatment Guidelines:** If diagnosed, follow the treatment plan provided by your healthcare provider, which may include antiviral drugs and supportive care.\\n\\n6. **Notify Close Contacts:** Inform those you have been in close contact with recently so they can also take necessary precautions.\\n\\n7. **Rest and Hydrate:** Make sure to rest and keep yourself hydrated.\\n\\nAlways consult a healthcare professional for advice tailored to your specific situation.', 'options': None}, {'role': 'user', 'metadata': {'title': None}, 'content': 'But I want to know my medical history first whether such symptoms of chest tightness or short breathness is felt by me in the past', 'options': None}, {'role': 'assistant', 'metadata': {'title': None}, 'content': \"I'm sorry, but I don't have access to your personal medical history. If you have any concerns about symptoms like chest tightness or shortness of breath, it's essential to consult with a healthcare professional.\", 'options': None}, {'role': 'user', 'metadata': {'title': None}, 'content': 'I am chris clark', 'options': None}, {'role': 'assistant', 'metadata': {'title': None}, 'content': 'Based on the provided medical history, there is no record of symptoms like chest tightness or shortness of breath for Chris Clark. The only documented reason for a visit was a stomach ache, which was treated with surgery. If you have experienced any such symptoms outside of this documentation, it would be best to consult with a healthcare professional.', 'options': None}, {'role': 'user', 'metadata': {'title': None}, 'content': 'OK by the way what else it could be if I am having the chest tightness and fever as well', 'options': None}, {'role': 'assistant', 'metadata': {'title': None}, 'content': 'Experiencing both chest tightness and a fever could potentially be associated with several conditions, including:\\n\\n1. **Pneumonia**: This is a respiratory infection characterized by symptoms such as fever, chills, cough with phlegm, and chest pain or tightness. It typically requires antibiotics and possibly oxygen therapy.\\n\\n2. **COVID-19**: This viral infection can cause a combination of symptoms, including fever, cough, shortness of breath, and chest tightness. Treatment may involve antiviral drugs, oxygen therapy, or ventilation in severe cases.\\n\\n3. **Asthma**: While fever is not a primary symptom, chest tightness is common. If experiencing both, it could suggest an asthma exacerbation potentially complicated by an infection, which might lead to fever.\\n\\nFor any of these conditions, especially if symptoms are severe, it is advisable to consult a healthcare professional for an accurate diagnosis and appropriate treatment.', 'options': None}, {'role': 'user', 'metadata': {'title': None}, 'content': 'Thanks, which doctor shall i consult', 'options': None}, {'role': 'assistant', 'metadata': {'title': None}, 'content': \"You should consult a doctor specializing in respiratory conditions, such as a pulmonologist, as chest tightness can be related to respiratory issues like asthma or pneumonia. Additionally, since you are experiencing fever, which can be associated with infections, a general physician or an infectious disease specialist may also be appropriate. If the chest tightness is severe, a cardiologist could be consulted to rule out cardiovascular issues. It's important to seek medical attention promptly.\", 'options': None}, {'role': 'user', 'content': 'DO we have anyone in this hospital whom I can consult'}, {'role': 'assistant', 'content': \"I don't have information on the symptoms you're experiencing, but I can provide you with details on the specialists available at Fictional Care Hospital. They have:\\n\\n1. **Dr. Jane Smith** - A Neurologist available on Monday, Wednesday, Friday (2:00 PM - 5:00 PM), and Sunday (9:00 AM - 12:00 PM).\\n2. **Dr. John Doe** - A Cardiologist available Monday to Friday (9:00 AM - 12:00 PM) and Saturday (10:00 AM - 1:00 PM).\\n\\nIf your symptoms relate to neurology or cardiology, you can consider consulting one of these specialists. If your symptoms pertain to a different specialty, I recommend contacting the hospital directly for further assistance.\"}], \"\"]\n",
      "  warnings.warn(\n"
     ]
    },
    {
     "name": "stdout",
     "output_type": "stream",
     "text": [
      "thanks\n"
     ]
    },
    {
     "name": "stderr",
     "output_type": "stream",
     "text": [
      "C:\\Users\\Ankush\\anaconda3\\envs\\llms\\Lib\\site-packages\\gradio\\blocks.py:1780: UserWarning: A function (_submit_fn) returned too many output values (needed: 2, returned: 3). Ignoring extra values.\n",
      "    Output components:\n",
      "        [state, chatbot]\n",
      "    Output values returned:\n",
      "        [\"I don't have specific information about the specialists at Fictional Care Hospital. It would be best to contact the hospital directly via their Emergency Department at +1 (800) 555-0001 to inquire about available specialists who can address your symptoms of chest tightness and fever.\", [{'role': 'user', 'metadata': {'title': None}, 'content': 'Hi', 'options': None}, {'role': 'assistant', 'metadata': {'title': None}, 'content': 'Hello! How can I assist you today?', 'options': None}, {'role': 'user', 'metadata': {'title': None}, 'content': 'Not feeling well, a bit feverish', 'options': None}, {'role': 'assistant', 'metadata': {'title': None}, 'content': \"I'm sorry to hear that you're not feeling well. Since you're experiencing a fever, it's essential to monitor your symptoms closely. Fever can be associated with various conditions, including viral infections like influenza or COVID-19, or bacterial infections like pneumonia. Here are some general recommendations:\\n\\n1. **Rest and Hydration:** Make sure to get plenty of rest and stay hydrated.\\n2. **Monitor Symptoms:** Keep track of any additional symptoms you might develop, such as cough, sore throat, or difficulty breathing.\\n3. **Over-the-Counter Medication:** Consider taking over-the-counter medications like acetaminophen or ibuprofen to help reduce your fever and alleviate discomfort.\\n4. **Consult a Doctor:** If your fever persists or you develop severe symptoms, it's important to consult a healthcare professional for further evaluation and treatment.\\n\\nIf you suspect you might have a specific condition such as influenza or COVID-19, or if your symptoms worsen, you should seek medical attention promptly.\", 'options': None}, {'role': 'user', 'metadata': {'title': None}, 'content': 'I suspect it to be covid, can you help', 'options': None}, {'role': 'assistant', 'metadata': {'title': None}, 'content': 'If you suspect you might have COVID-19, here are some steps you should take:\\n\\n1. **Isolate Yourself:** Stay in a separate room away from other people and wear a mask if you need to be around others.\\n\\n2. **Monitor Your Symptoms:** Keep track of your symptoms, such as fever, cough, loss of taste/smell, or shortness of breath.\\n\\n3. **Get Tested:** Arrange for a COVID-19 test to confirm whether you have the virus.\\n\\n4. **Seek Medical Advice:** Contact a healthcare provider for guidance and to discuss your symptoms.\\n\\n5. **Follow Treatment Guidelines:** If diagnosed, follow the treatment plan provided by your healthcare provider, which may include antiviral drugs and supportive care.\\n\\n6. **Notify Close Contacts:** Inform those you have been in close contact with recently so they can also take necessary precautions.\\n\\n7. **Rest and Hydrate:** Make sure to rest and keep yourself hydrated.\\n\\nAlways consult a healthcare professional for advice tailored to your specific situation.', 'options': None}, {'role': 'user', 'metadata': {'title': None}, 'content': 'But I want to know my medical history first whether such symptoms of chest tightness or short breathness is felt by me in the past', 'options': None}, {'role': 'assistant', 'metadata': {'title': None}, 'content': \"I'm sorry, but I don't have access to your personal medical history. If you have any concerns about symptoms like chest tightness or shortness of breath, it's essential to consult with a healthcare professional.\", 'options': None}, {'role': 'user', 'metadata': {'title': None}, 'content': 'I am chris clark', 'options': None}, {'role': 'assistant', 'metadata': {'title': None}, 'content': 'Based on the provided medical history, there is no record of symptoms like chest tightness or shortness of breath for Chris Clark. The only documented reason for a visit was a stomach ache, which was treated with surgery. If you have experienced any such symptoms outside of this documentation, it would be best to consult with a healthcare professional.', 'options': None}, {'role': 'user', 'metadata': {'title': None}, 'content': 'OK by the way what else it could be if I am having the chest tightness and fever as well', 'options': None}, {'role': 'assistant', 'metadata': {'title': None}, 'content': 'Experiencing both chest tightness and a fever could potentially be associated with several conditions, including:\\n\\n1. **Pneumonia**: This is a respiratory infection characterized by symptoms such as fever, chills, cough with phlegm, and chest pain or tightness. It typically requires antibiotics and possibly oxygen therapy.\\n\\n2. **COVID-19**: This viral infection can cause a combination of symptoms, including fever, cough, shortness of breath, and chest tightness. Treatment may involve antiviral drugs, oxygen therapy, or ventilation in severe cases.\\n\\n3. **Asthma**: While fever is not a primary symptom, chest tightness is common. If experiencing both, it could suggest an asthma exacerbation potentially complicated by an infection, which might lead to fever.\\n\\nFor any of these conditions, especially if symptoms are severe, it is advisable to consult a healthcare professional for an accurate diagnosis and appropriate treatment.', 'options': None}, {'role': 'user', 'metadata': {'title': None}, 'content': 'Thanks, which doctor shall i consult', 'options': None}, {'role': 'assistant', 'metadata': {'title': None}, 'content': \"You should consult a doctor specializing in respiratory conditions, such as a pulmonologist, as chest tightness can be related to respiratory issues like asthma or pneumonia. Additionally, since you are experiencing fever, which can be associated with infections, a general physician or an infectious disease specialist may also be appropriate. If the chest tightness is severe, a cardiologist could be consulted to rule out cardiovascular issues. It's important to seek medical attention promptly.\", 'options': None}, {'role': 'user', 'metadata': {'title': None}, 'content': 'DO we have anyone in this hospital whom I can consult', 'options': None}, {'role': 'assistant', 'metadata': {'title': None}, 'content': \"I don't have information on the symptoms you're experiencing, but I can provide you with details on the specialists available at Fictional Care Hospital. They have:\\n\\n1. **Dr. Jane Smith** - A Neurologist available on Monday, Wednesday, Friday (2:00 PM - 5:00 PM), and Sunday (9:00 AM - 12:00 PM).\\n2. **Dr. John Doe** - A Cardiologist available Monday to Friday (9:00 AM - 12:00 PM) and Saturday (10:00 AM - 1:00 PM).\\n\\nIf your symptoms relate to neurology or cardiology, you can consider consulting one of these specialists. If your symptoms pertain to a different specialty, I recommend contacting the hospital directly for further assistance.\", 'options': None}, {'role': 'user', 'content': 'thanks'}, {'role': 'assistant', 'content': \"I don't have specific information about the specialists at Fictional Care Hospital. It would be best to contact the hospital directly via their Emergency Department at +1 (800) 555-0001 to inquire about available specialists who can address your symptoms of chest tightness and fever.\"}], \"\"]\n",
      "  warnings.warn(\n"
     ]
    }
   ],
   "source": [
    "view = gr.ChatInterface(chat, type=\"messages\").launch(inbrowser=True)\n"
   ]
  },
  {
   "cell_type": "code",
   "execution_count": null,
   "id": "34050d95-2c26-4412-832f-f85ed17861a2",
   "metadata": {},
   "outputs": [],
   "source": []
  }
 ],
 "metadata": {
  "kernelspec": {
   "display_name": "Python 3 (ipykernel)",
   "language": "python",
   "name": "python3"
  },
  "language_info": {
   "codemirror_mode": {
    "name": "ipython",
    "version": 3
   },
   "file_extension": ".py",
   "mimetype": "text/x-python",
   "name": "python",
   "nbconvert_exporter": "python",
   "pygments_lexer": "ipython3",
   "version": "3.11.11"
  }
 },
 "nbformat": 4,
 "nbformat_minor": 5
}
